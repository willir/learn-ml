{
  "nbformat": 4,
  "nbformat_minor": 0,
  "metadata": {
    "colab": {
      "provenance": [],
      "authorship_tag": "ABX9TyM0gnM1L6ifZoxyK5g6+MxP",
      "include_colab_link": true
    },
    "kernelspec": {
      "name": "python3",
      "display_name": "Python 3"
    },
    "language_info": {
      "name": "python"
    }
  },
  "cells": [
    {
      "cell_type": "markdown",
      "metadata": {
        "id": "view-in-github",
        "colab_type": "text"
      },
      "source": [
        "<a href=\"https://colab.research.google.com/github/willir/learn-ml/blob/main/tf_tutorial_attention_1.ipynb\" target=\"_parent\"><img src=\"https://colab.research.google.com/assets/colab-badge.svg\" alt=\"Open In Colab\"/></a>"
      ]
    },
    {
      "cell_type": "code",
      "execution_count": null,
      "metadata": {
        "id": "BKkcK058_TZP",
        "colab": {
          "base_uri": "https://localhost:8080/"
        },
        "outputId": "83b90e26-91fc-42d0-af69-21c19cd1e6d2"
      },
      "outputs": [
        {
          "output_type": "stream",
          "name": "stdout",
          "text": [
            "Looking in indexes: https://pypi.org/simple, https://us-python.pkg.dev/colab-wheels/public/simple/\n",
            "Collecting tensorflow-text==2.8.*\n",
            "  Downloading tensorflow_text-2.8.2-cp37-cp37m-manylinux_2_12_x86_64.manylinux2010_x86_64.whl (4.9 MB)\n",
            "\u001b[K     |████████████████████████████████| 4.9 MB 5.1 MB/s \n",
            "\u001b[?25hCollecting tensorflow<2.9,>=2.8.0\n",
            "  Downloading tensorflow-2.8.3-cp37-cp37m-manylinux2010_x86_64.whl (497.9 MB)\n",
            "\u001b[K     |████████████████████████████████| 497.9 MB 32 kB/s \n",
            "\u001b[?25hRequirement already satisfied: tensorflow-hub>=0.8.0 in /usr/local/lib/python3.7/dist-packages (from tensorflow-text==2.8.*) (0.12.0)\n",
            "Requirement already satisfied: numpy>=1.20 in /usr/local/lib/python3.7/dist-packages (from tensorflow<2.9,>=2.8.0->tensorflow-text==2.8.*) (1.21.6)\n",
            "Requirement already satisfied: opt-einsum>=2.3.2 in /usr/local/lib/python3.7/dist-packages (from tensorflow<2.9,>=2.8.0->tensorflow-text==2.8.*) (3.3.0)\n",
            "Requirement already satisfied: grpcio<2.0,>=1.24.3 in /usr/local/lib/python3.7/dist-packages (from tensorflow<2.9,>=2.8.0->tensorflow-text==2.8.*) (1.50.0)\n",
            "Requirement already satisfied: h5py>=2.9.0 in /usr/local/lib/python3.7/dist-packages (from tensorflow<2.9,>=2.8.0->tensorflow-text==2.8.*) (3.1.0)\n",
            "Requirement already satisfied: libclang>=9.0.1 in /usr/local/lib/python3.7/dist-packages (from tensorflow<2.9,>=2.8.0->tensorflow-text==2.8.*) (14.0.6)\n",
            "Requirement already satisfied: tensorflow-io-gcs-filesystem>=0.23.1 in /usr/local/lib/python3.7/dist-packages (from tensorflow<2.9,>=2.8.0->tensorflow-text==2.8.*) (0.27.0)\n",
            "Requirement already satisfied: astunparse>=1.6.0 in /usr/local/lib/python3.7/dist-packages (from tensorflow<2.9,>=2.8.0->tensorflow-text==2.8.*) (1.6.3)\n",
            "Requirement already satisfied: flatbuffers>=1.12 in /usr/local/lib/python3.7/dist-packages (from tensorflow<2.9,>=2.8.0->tensorflow-text==2.8.*) (1.12)\n",
            "Requirement already satisfied: setuptools in /usr/local/lib/python3.7/dist-packages (from tensorflow<2.9,>=2.8.0->tensorflow-text==2.8.*) (57.4.0)\n",
            "Requirement already satisfied: protobuf<3.20,>=3.9.2 in /usr/local/lib/python3.7/dist-packages (from tensorflow<2.9,>=2.8.0->tensorflow-text==2.8.*) (3.19.6)\n",
            "Requirement already satisfied: absl-py>=0.4.0 in /usr/local/lib/python3.7/dist-packages (from tensorflow<2.9,>=2.8.0->tensorflow-text==2.8.*) (1.3.0)\n",
            "Requirement already satisfied: gast>=0.2.1 in /usr/local/lib/python3.7/dist-packages (from tensorflow<2.9,>=2.8.0->tensorflow-text==2.8.*) (0.4.0)\n",
            "Requirement already satisfied: typing-extensions>=3.6.6 in /usr/local/lib/python3.7/dist-packages (from tensorflow<2.9,>=2.8.0->tensorflow-text==2.8.*) (4.1.1)\n",
            "Collecting tensorboard<2.9,>=2.8\n",
            "  Downloading tensorboard-2.8.0-py3-none-any.whl (5.8 MB)\n",
            "\u001b[K     |████████████████████████████████| 5.8 MB 29.3 MB/s \n",
            "\u001b[?25hRequirement already satisfied: wrapt>=1.11.0 in /usr/local/lib/python3.7/dist-packages (from tensorflow<2.9,>=2.8.0->tensorflow-text==2.8.*) (1.14.1)\n",
            "Collecting keras<2.9,>=2.8.0rc0\n",
            "  Downloading keras-2.8.0-py2.py3-none-any.whl (1.4 MB)\n",
            "\u001b[K     |████████████████████████████████| 1.4 MB 60.8 MB/s \n",
            "\u001b[?25hRequirement already satisfied: google-pasta>=0.1.1 in /usr/local/lib/python3.7/dist-packages (from tensorflow<2.9,>=2.8.0->tensorflow-text==2.8.*) (0.2.0)\n",
            "Requirement already satisfied: keras-preprocessing>=1.1.1 in /usr/local/lib/python3.7/dist-packages (from tensorflow<2.9,>=2.8.0->tensorflow-text==2.8.*) (1.1.2)\n",
            "Requirement already satisfied: termcolor>=1.1.0 in /usr/local/lib/python3.7/dist-packages (from tensorflow<2.9,>=2.8.0->tensorflow-text==2.8.*) (2.1.0)\n",
            "Collecting tensorflow-estimator<2.9,>=2.8\n",
            "  Downloading tensorflow_estimator-2.8.0-py2.py3-none-any.whl (462 kB)\n",
            "\u001b[K     |████████████████████████████████| 462 kB 51.9 MB/s \n",
            "\u001b[?25hRequirement already satisfied: six>=1.12.0 in /usr/local/lib/python3.7/dist-packages (from tensorflow<2.9,>=2.8.0->tensorflow-text==2.8.*) (1.15.0)\n",
            "Requirement already satisfied: wheel<1.0,>=0.23.0 in /usr/local/lib/python3.7/dist-packages (from astunparse>=1.6.0->tensorflow<2.9,>=2.8.0->tensorflow-text==2.8.*) (0.38.3)\n",
            "Requirement already satisfied: cached-property in /usr/local/lib/python3.7/dist-packages (from h5py>=2.9.0->tensorflow<2.9,>=2.8.0->tensorflow-text==2.8.*) (1.5.2)\n",
            "Requirement already satisfied: requests<3,>=2.21.0 in /usr/local/lib/python3.7/dist-packages (from tensorboard<2.9,>=2.8->tensorflow<2.9,>=2.8.0->tensorflow-text==2.8.*) (2.23.0)\n",
            "Requirement already satisfied: markdown>=2.6.8 in /usr/local/lib/python3.7/dist-packages (from tensorboard<2.9,>=2.8->tensorflow<2.9,>=2.8.0->tensorflow-text==2.8.*) (3.4.1)\n",
            "Requirement already satisfied: tensorboard-plugin-wit>=1.6.0 in /usr/local/lib/python3.7/dist-packages (from tensorboard<2.9,>=2.8->tensorflow<2.9,>=2.8.0->tensorflow-text==2.8.*) (1.8.1)\n",
            "Requirement already satisfied: google-auth-oauthlib<0.5,>=0.4.1 in /usr/local/lib/python3.7/dist-packages (from tensorboard<2.9,>=2.8->tensorflow<2.9,>=2.8.0->tensorflow-text==2.8.*) (0.4.6)\n",
            "Requirement already satisfied: tensorboard-data-server<0.7.0,>=0.6.0 in /usr/local/lib/python3.7/dist-packages (from tensorboard<2.9,>=2.8->tensorflow<2.9,>=2.8.0->tensorflow-text==2.8.*) (0.6.1)\n",
            "Requirement already satisfied: werkzeug>=0.11.15 in /usr/local/lib/python3.7/dist-packages (from tensorboard<2.9,>=2.8->tensorflow<2.9,>=2.8.0->tensorflow-text==2.8.*) (1.0.1)\n",
            "Requirement already satisfied: google-auth<3,>=1.6.3 in /usr/local/lib/python3.7/dist-packages (from tensorboard<2.9,>=2.8->tensorflow<2.9,>=2.8.0->tensorflow-text==2.8.*) (2.14.1)\n",
            "Requirement already satisfied: rsa<5,>=3.1.4 in /usr/local/lib/python3.7/dist-packages (from google-auth<3,>=1.6.3->tensorboard<2.9,>=2.8->tensorflow<2.9,>=2.8.0->tensorflow-text==2.8.*) (4.9)\n",
            "Requirement already satisfied: cachetools<6.0,>=2.0.0 in /usr/local/lib/python3.7/dist-packages (from google-auth<3,>=1.6.3->tensorboard<2.9,>=2.8->tensorflow<2.9,>=2.8.0->tensorflow-text==2.8.*) (5.2.0)\n",
            "Requirement already satisfied: pyasn1-modules>=0.2.1 in /usr/local/lib/python3.7/dist-packages (from google-auth<3,>=1.6.3->tensorboard<2.9,>=2.8->tensorflow<2.9,>=2.8.0->tensorflow-text==2.8.*) (0.2.8)\n",
            "Requirement already satisfied: requests-oauthlib>=0.7.0 in /usr/local/lib/python3.7/dist-packages (from google-auth-oauthlib<0.5,>=0.4.1->tensorboard<2.9,>=2.8->tensorflow<2.9,>=2.8.0->tensorflow-text==2.8.*) (1.3.1)\n",
            "Requirement already satisfied: importlib-metadata>=4.4 in /usr/local/lib/python3.7/dist-packages (from markdown>=2.6.8->tensorboard<2.9,>=2.8->tensorflow<2.9,>=2.8.0->tensorflow-text==2.8.*) (4.13.0)\n",
            "Requirement already satisfied: zipp>=0.5 in /usr/local/lib/python3.7/dist-packages (from importlib-metadata>=4.4->markdown>=2.6.8->tensorboard<2.9,>=2.8->tensorflow<2.9,>=2.8.0->tensorflow-text==2.8.*) (3.10.0)\n",
            "Requirement already satisfied: pyasn1<0.5.0,>=0.4.6 in /usr/local/lib/python3.7/dist-packages (from pyasn1-modules>=0.2.1->google-auth<3,>=1.6.3->tensorboard<2.9,>=2.8->tensorflow<2.9,>=2.8.0->tensorflow-text==2.8.*) (0.4.8)\n",
            "Requirement already satisfied: chardet<4,>=3.0.2 in /usr/local/lib/python3.7/dist-packages (from requests<3,>=2.21.0->tensorboard<2.9,>=2.8->tensorflow<2.9,>=2.8.0->tensorflow-text==2.8.*) (3.0.4)\n",
            "Requirement already satisfied: certifi>=2017.4.17 in /usr/local/lib/python3.7/dist-packages (from requests<3,>=2.21.0->tensorboard<2.9,>=2.8->tensorflow<2.9,>=2.8.0->tensorflow-text==2.8.*) (2022.9.24)\n",
            "Requirement already satisfied: urllib3!=1.25.0,!=1.25.1,<1.26,>=1.21.1 in /usr/local/lib/python3.7/dist-packages (from requests<3,>=2.21.0->tensorboard<2.9,>=2.8->tensorflow<2.9,>=2.8.0->tensorflow-text==2.8.*) (1.24.3)\n",
            "Requirement already satisfied: idna<3,>=2.5 in /usr/local/lib/python3.7/dist-packages (from requests<3,>=2.21.0->tensorboard<2.9,>=2.8->tensorflow<2.9,>=2.8.0->tensorflow-text==2.8.*) (2.10)\n",
            "Requirement already satisfied: oauthlib>=3.0.0 in /usr/local/lib/python3.7/dist-packages (from requests-oauthlib>=0.7.0->google-auth-oauthlib<0.5,>=0.4.1->tensorboard<2.9,>=2.8->tensorflow<2.9,>=2.8.0->tensorflow-text==2.8.*) (3.2.2)\n",
            "Installing collected packages: tensorflow-estimator, tensorboard, keras, tensorflow, tensorflow-text\n",
            "  Attempting uninstall: tensorflow-estimator\n",
            "    Found existing installation: tensorflow-estimator 2.9.0\n",
            "    Uninstalling tensorflow-estimator-2.9.0:\n",
            "      Successfully uninstalled tensorflow-estimator-2.9.0\n",
            "  Attempting uninstall: tensorboard\n",
            "    Found existing installation: tensorboard 2.9.1\n",
            "    Uninstalling tensorboard-2.9.1:\n",
            "      Successfully uninstalled tensorboard-2.9.1\n",
            "  Attempting uninstall: keras\n",
            "    Found existing installation: keras 2.9.0\n",
            "    Uninstalling keras-2.9.0:\n",
            "      Successfully uninstalled keras-2.9.0\n",
            "  Attempting uninstall: tensorflow\n",
            "    Found existing installation: tensorflow 2.9.2\n",
            "    Uninstalling tensorflow-2.9.2:\n",
            "      Successfully uninstalled tensorflow-2.9.2\n",
            "Successfully installed keras-2.8.0 tensorboard-2.8.0 tensorflow-2.8.3 tensorflow-estimator-2.8.0 tensorflow-text-2.8.2\n"
          ]
        }
      ],
      "source": [
        "!pip3 install \"tensorflow-text==2.8.*\""
      ]
    },
    {
      "cell_type": "code",
      "source": [
        "from pathlib import Path\n",
        "import typing\n",
        "from typing import Any, Tuple\n",
        "\n",
        "import numpy as np\n",
        "\n",
        "import tensorflow as tf\n",
        "\n",
        "import tensorflow_text as tf_text\n",
        "\n",
        "import matplotlib.pyplot as plt\n",
        "import matplotlib.ticker as ticker"
      ],
      "metadata": {
        "id": "q1AzCfO7D4ea"
      },
      "execution_count": null,
      "outputs": []
    },
    {
      "cell_type": "code",
      "source": [
        "class ShapeChecker():\n",
        "  def __init__(self):\n",
        "    # Keep a cache of every axis-name seen\n",
        "    self.shapes = {}\n",
        "\n",
        "  def __call__(self, tensor, names, broadcast=False):\n",
        "    if not tf.executing_eagerly():\n",
        "      return\n",
        "\n",
        "    if isinstance(names, str):\n",
        "      names = (names,)\n",
        "\n",
        "    shape = tf.shape(tensor)\n",
        "    rank = tf.rank(tensor)\n",
        "\n",
        "    if rank != len(names):\n",
        "      raise ValueError(f'Rank mismatch:\\n'\n",
        "                       f'    found {rank}: {shape.numpy()}\\n'\n",
        "                       f'    expected {len(names)}: {names}\\n')\n",
        "\n",
        "    for i, name in enumerate(names):\n",
        "      if isinstance(name, int):\n",
        "        old_dim = name\n",
        "      else:\n",
        "        old_dim = self.shapes.get(name, None)\n",
        "      new_dim = shape[i]\n",
        "\n",
        "      if (broadcast and new_dim == 1):\n",
        "        continue\n",
        "\n",
        "      if old_dim is None:\n",
        "        # If the axis name is new, add its length to the cache.\n",
        "        self.shapes[name] = new_dim\n",
        "        continue\n",
        "\n",
        "      if new_dim != old_dim:\n",
        "        raise ValueError(\n",
        "            f\"Shape mismatch for dimension: '{name}'\\n\"\n",
        "            f\"    found: {new_dim}\\n\"\n",
        "            f\"    expected: {old_dim}\\n\"\n",
        "            f\"    names: {names}\\n\"\n",
        "            f\"    got shape: {shape}\\n\"\n",
        "            f\"    saved shapes: {self.shapes}\"\n",
        "        )"
      ],
      "metadata": {
        "id": "3HOpHewx_UME"
      },
      "execution_count": null,
      "outputs": []
    },
    {
      "cell_type": "code",
      "source": [
        "path_to_zip = tf.keras.utils.get_file(\n",
        "    'spa-eng.zip', origin='http://storage.googleapis.com/download.tensorflow.org/data/spa-eng.zip',\n",
        "    extract=True,\n",
        ")\n",
        "\n",
        "path_to_file = Path(path_to_zip).parent / 'spa-eng/spa.txt'\n",
        "display(path_to_zip)"
      ],
      "metadata": {
        "colab": {
          "base_uri": "https://localhost:8080/",
          "height": 87
        },
        "id": "Plro0FbbAO2L",
        "outputId": "7aa620e9-18b2-4129-936c-b177e2fb3ae3"
      },
      "execution_count": null,
      "outputs": [
        {
          "output_type": "stream",
          "name": "stdout",
          "text": [
            "Downloading data from http://storage.googleapis.com/download.tensorflow.org/data/spa-eng.zip\n",
            "2646016/2638744 [==============================] - 0s 0us/step\n",
            "2654208/2638744 [==============================] - 0s 0us/step\n"
          ]
        },
        {
          "output_type": "display_data",
          "data": {
            "text/plain": [
              "'/root/.keras/datasets/spa-eng.zip'"
            ],
            "application/vnd.google.colaboratory.intrinsic+json": {
              "type": "string"
            }
          },
          "metadata": {}
        }
      ]
    },
    {
      "cell_type": "code",
      "source": [
        "def load_data(path):\n",
        "  text = path.read_text(encoding='utf-8')\n",
        "\n",
        "  lines = text.splitlines()\n",
        "  pairs = [line.split('\\t') for line in lines]\n",
        "\n",
        "  inp = [inp for targ, inp in pairs]\n",
        "  targ = [targ for targ, inp in pairs]\n",
        "\n",
        "  return targ, inp"
      ],
      "metadata": {
        "id": "C_WJpU4DAZ4g"
      },
      "execution_count": null,
      "outputs": []
    },
    {
      "cell_type": "code",
      "source": [
        "targ, inp = load_data(path_to_file)\n",
        "print(inp[-1])"
      ],
      "metadata": {
        "id": "5GzQVhFEAZH1",
        "colab": {
          "base_uri": "https://localhost:8080/"
        },
        "outputId": "cb69fd35-5e4d-485f-d502-1df836b36ce8"
      },
      "execution_count": null,
      "outputs": [
        {
          "output_type": "stream",
          "name": "stdout",
          "text": [
            "Si quieres sonar como un hablante nativo, debes estar dispuesto a practicar diciendo la misma frase una y otra vez de la misma manera en que un músico de banjo practica el mismo fraseo una y otra vez hasta que lo puedan tocar correctamente y en el tiempo esperado.\n"
          ]
        }
      ]
    },
    {
      "cell_type": "code",
      "source": [
        "print(targ[-1])"
      ],
      "metadata": {
        "colab": {
          "base_uri": "https://localhost:8080/"
        },
        "id": "gm5AG4ddAf9B",
        "outputId": "9dd36ac3-e400-4ca3-dbda-04ecfdd956e0"
      },
      "execution_count": null,
      "outputs": [
        {
          "output_type": "stream",
          "name": "stdout",
          "text": [
            "If you want to sound like a native speaker, you must be willing to practice saying the same sentence over and over in the same way that banjo players practice the same phrase over and over until they can play it correctly and at the desired tempo.\n"
          ]
        }
      ]
    },
    {
      "cell_type": "code",
      "source": [
        "BUFFER_SIZE = len(inp)\n",
        "BATCH_SIZE = 64\n",
        "\n",
        "dataset = tf.data.Dataset.from_tensor_slices((inp, targ)).shuffle(BUFFER_SIZE)\n",
        "dataset = dataset.batch(BATCH_SIZE)"
      ],
      "metadata": {
        "id": "uEJ1_ejvAj31"
      },
      "execution_count": null,
      "outputs": []
    },
    {
      "cell_type": "code",
      "source": [
        "for example_input_batch, example_target_batch in dataset.take(1):\n",
        "  print(example_input_batch[:5])\n",
        "  print()\n",
        "  print(example_target_batch[:5])\n",
        "  break"
      ],
      "metadata": {
        "colab": {
          "base_uri": "https://localhost:8080/"
        },
        "id": "MH19yn0_EtYh",
        "outputId": "39fa2268-9f7a-40da-ece0-0c391dbe1173"
      },
      "execution_count": null,
      "outputs": [
        {
          "output_type": "stream",
          "name": "stdout",
          "text": [
            "tf.Tensor(\n",
            "[b'Me contactar\\xc3\\xa9 contigo pronto.'\n",
            " b'Hace un buen d\\xc3\\xada, \\xc2\\xbfno crees? \\xc2\\xbfPor qu\\xc3\\xa9 no salimos a dar un paseo?'\n",
            " b'Estamos escuchando.' b'Nosotros comimos sopa de papa.'\n",
            " b'Habl\\xc3\\xa9 con ella durante una hora.'], shape=(5,), dtype=string)\n",
            "\n",
            "tf.Tensor(\n",
            "[b\"I'll get in touch with you soon.\"\n",
            " b\"A nice day, isn't it? Why not go out for a walk?\" b\"We're listening.\"\n",
            " b'We ate potato soup.' b'I talked to her for an hour.'], shape=(5,), dtype=string)\n"
          ]
        }
      ]
    },
    {
      "cell_type": "code",
      "source": [
        "example_text = tf.constant('¿Todavía está en casa?')\n",
        "\n",
        "print(example_text.numpy())\n",
        "print(tf_text.normalize_utf8(example_text, \"NFKD\").numpy())"
      ],
      "metadata": {
        "colab": {
          "base_uri": "https://localhost:8080/"
        },
        "id": "XK2qYS0Lsa16",
        "outputId": "ed32db48-677f-4212-bc61-369f8d1aa049"
      },
      "execution_count": null,
      "outputs": [
        {
          "output_type": "stream",
          "name": "stdout",
          "text": [
            "b'\\xc2\\xbfTodav\\xc3\\xada est\\xc3\\xa1 en casa?'\n",
            "b'\\xc2\\xbfTodavi\\xcc\\x81a esta\\xcc\\x81 en casa?'\n"
          ]
        }
      ]
    },
    {
      "cell_type": "code",
      "source": [
        "def preprocess_text(text: tf.Tensor) -> tf.Tensor:\n",
        "  text = tf_text.normalize_utf8(text, \"NFKD\")\n",
        "  text = tf.strings.lower(text)\n",
        "  text = tf.strings.regex_replace(text, \"[^ a-z.?!,¿]\", \"\")\n",
        "  text = tf.strings.regex_replace(text, \"[.?!,¿]\", r\" \\0 \")\n",
        "  text = tf.strings.strip(text)\n",
        "  text = tf.strings.join([\"[START]\", text, \"[END]\"], separator=\" \")\n",
        "  return text"
      ],
      "metadata": {
        "id": "Wc2epYBgq2rh"
      },
      "execution_count": null,
      "outputs": []
    },
    {
      "cell_type": "code",
      "source": [
        "print(preprocess_text(example_text).numpy().decode())"
      ],
      "metadata": {
        "colab": {
          "base_uri": "https://localhost:8080/"
        },
        "id": "yTUMsOC7rs0I",
        "outputId": "8c36f9b4-d3e8-4620-e684-60308b06a285"
      },
      "execution_count": null,
      "outputs": [
        {
          "output_type": "stream",
          "name": "stdout",
          "text": [
            "[START] ¿ todavia esta en casa ? [END]\n"
          ]
        }
      ]
    },
    {
      "cell_type": "code",
      "source": [
        "MAX_VOCAB_SIZE = 5000\n",
        "\n",
        "inp_txt_vec = tf.keras.layers.TextVectorization(\n",
        "    standardize=preprocess_text,\n",
        "    max_tokens=MAX_VOCAB_SIZE,\n",
        ")\n",
        "\n",
        "inp_txt_vec.adapt(inp)\n",
        "inp_txt_vec.get_vocabulary()[:10]"
      ],
      "metadata": {
        "id": "T1kIMvXWtMuA",
        "colab": {
          "base_uri": "https://localhost:8080/"
        },
        "outputId": "60d7a738-095c-4706-92b3-54889c296fa2"
      },
      "execution_count": null,
      "outputs": [
        {
          "output_type": "execute_result",
          "data": {
            "text/plain": [
              "['', '[UNK]', '[START]', '[END]', '.', 'que', 'de', 'el', 'a', 'no']"
            ]
          },
          "metadata": {},
          "execution_count": 13
        }
      ]
    },
    {
      "cell_type": "code",
      "source": [
        "tgt_txt_vec = tf.keras.layers.TextVectorization(\n",
        "    standardize=preprocess_text,\n",
        "    max_tokens=MAX_VOCAB_SIZE,\n",
        ")\n",
        "\n",
        "tgt_txt_vec.adapt(targ)\n",
        "tgt_txt_vec.get_vocabulary()[:10]"
      ],
      "metadata": {
        "id": "fv2FaVDREj7R",
        "colab": {
          "base_uri": "https://localhost:8080/"
        },
        "outputId": "b501ccba-95cc-4efe-d753-71b4b50d8e2d"
      },
      "execution_count": null,
      "outputs": [
        {
          "output_type": "execute_result",
          "data": {
            "text/plain": [
              "['', '[UNK]', '[START]', '[END]', '.', 'the', 'i', 'to', 'you', 'tom']"
            ]
          },
          "metadata": {},
          "execution_count": 14
        }
      ]
    },
    {
      "cell_type": "code",
      "source": [
        "example_input_batch.shape"
      ],
      "metadata": {
        "id": "iUO1Q9tEGD5t",
        "colab": {
          "base_uri": "https://localhost:8080/"
        },
        "outputId": "eca3ca69-f028-4f67-8c7b-a64b0b5c41a3"
      },
      "execution_count": null,
      "outputs": [
        {
          "output_type": "execute_result",
          "data": {
            "text/plain": [
              "TensorShape([64])"
            ]
          },
          "metadata": {},
          "execution_count": 15
        }
      ]
    },
    {
      "cell_type": "code",
      "source": [
        "example_tokens = inp_txt_vec(example_input_batch)\n",
        "display(example_tokens.shape)\n",
        "display(example_tokens[:3, :10].numpy())"
      ],
      "metadata": {
        "id": "fO28AWNrFn9C",
        "colab": {
          "base_uri": "https://localhost:8080/",
          "height": 86
        },
        "outputId": "74acc337-b8c4-49fe-f19e-2b698a0ca39a"
      },
      "execution_count": null,
      "outputs": [
        {
          "output_type": "display_data",
          "data": {
            "text/plain": [
              "TensorShape([64, 21])"
            ]
          },
          "metadata": {}
        },
        {
          "output_type": "display_data",
          "data": {
            "text/plain": [
              "array([[   2,   18,    1,  245,  201,    4,    3,    0,    0,    0],\n",
              "       [   2,  102,   16,  174,  101,   19,   13,    9,  317,   12],\n",
              "       [   2,  172, 1211,    4,    3,    0,    0,    0,    0,    0]])"
            ]
          },
          "metadata": {}
        }
      ]
    },
    {
      "cell_type": "code",
      "source": [
        "input_vocab = np.array(inp_txt_vec.get_vocabulary())\n",
        "tokens = input_vocab[example_tokens[0].numpy()]\n",
        "print(\" \".join(tokens))"
      ],
      "metadata": {
        "id": "jmQ5-Hh0GRJK",
        "colab": {
          "base_uri": "https://localhost:8080/"
        },
        "outputId": "1b592579-a4c6-4fe9-f2c4-1ea3cce31aff"
      },
      "execution_count": null,
      "outputs": [
        {
          "output_type": "stream",
          "name": "stdout",
          "text": [
            "[START] me [UNK] contigo pronto . [END]              \n"
          ]
        }
      ]
    },
    {
      "cell_type": "code",
      "source": [
        "plt.subplot(1, 2, 1)\n",
        "c = plt.pcolormesh(example_tokens)\n",
        "plt.colorbar(c)\n",
        "plt.title(\"Tokens\")\n",
        "\n",
        "plt.subplot(1, 2, 2)\n",
        "c = plt.pcolormesh(example_tokens != 0)\n",
        "plt.colorbar(c)\n",
        "plt.title(\"Tokens' Mask\")\n",
        "\n",
        "plt.show()"
      ],
      "metadata": {
        "id": "YbwxKw8xGhGT",
        "colab": {
          "base_uri": "https://localhost:8080/",
          "height": 281
        },
        "outputId": "215e9b60-03c0-47a9-858f-63da7b16d80d"
      },
      "execution_count": null,
      "outputs": [
        {
          "output_type": "display_data",
          "data": {
            "text/plain": [
              "<Figure size 432x288 with 4 Axes>"
            ],
            "image/png": "[encoded data removed]"
          },
          "metadata": {
            "needs_background": "light"
          }
        }
      ]
    },
    {
      "cell_type": "code",
      "source": [
        "EMBEDDING_DIM = 256\n",
        "UNITS = 1024"
      ],
      "metadata": {
        "id": "OFxJfya0ITdT"
      },
      "execution_count": null,
      "outputs": []
    },
    {
      "cell_type": "code",
      "source": [
        "class Encoder(tf.keras.layers.Layer):\n",
        "  def __init__(self, input_vocab_size: int, embedding_dim: int, enc_units: int) -> None:\n",
        "    super().__init__()\n",
        "    self.input_vocab_size = input_vocab_size\n",
        "    self.embedding_dim = embedding_dim\n",
        "    self.enc_units = enc_units\n",
        "\n",
        "    self.embedding = tf.keras.layers.Embedding(input_vocab_size, embedding_dim)\n",
        "\n",
        "    self.gru = tf.keras.layers.GRU(\n",
        "      enc_units,\n",
        "      return_sequences=True,\n",
        "      return_state=True,\n",
        "      recurrent_initializer=\"glorot_uniform\",\n",
        "    )\n",
        "\n",
        "  def call(self, tokens: tf.Tensor, state=None) -> tf.Tensor:\n",
        "    shape_checker = ShapeChecker()\n",
        "    shape_checker(tokens, (\"batch\", \"s\"))\n",
        "\n",
        "    vectors = self.embedding(tokens)\n",
        "    shape_checker(vectors, (\"batch\", \"s\", \"embedding_dim\"))\n",
        "\n",
        "    output, state = self.gru(vectors, initial_state=state)\n",
        "    shape_checker(output, (\"batch\", \"s\", \"enc_units\"))\n",
        "    shape_checker(state, (\"batch\", \"enc_units\"))\n",
        "\n",
        "    return output, state"
      ],
      "metadata": {
        "id": "xATt6rIXIo3u"
      },
      "execution_count": null,
      "outputs": []
    },
    {
      "cell_type": "code",
      "source": [
        "encoder = Encoder(input_vocab_size=inp_txt_vec.vocabulary_size(), embedding_dim=EMBEDDING_DIM, enc_units=UNITS)\n",
        "\n",
        "example_tokens = inp_txt_vec(example_input_batch)\n",
        "example_enc_output, example_enc_state  = encoder(example_tokens)\n",
        "\n",
        "print(f\"example_input_batch shape (batch, ): {example_input_batch.shape}\")\n",
        "print(f\"example_tokens shape (batch, s): {example_tokens.shape}\")\n",
        "print(f\"example_enc_output shape (batch, s, units): {example_enc_output.shape}\")\n",
        "print(f\"example_enc_state shape (batch, units): {example_enc_state.shape}\")"
      ],
      "metadata": {
        "colab": {
          "base_uri": "https://localhost:8080/"
        },
        "id": "yBvoOrYmAXSw",
        "outputId": "b60cd8d3-ca02-4c40-8505-4f6f1deedb03"
      },
      "execution_count": null,
      "outputs": [
        {
          "output_type": "stream",
          "name": "stdout",
          "text": [
            "example_input_batch shape (batch, ): (64,)\n",
            "example_tokens shape (batch, s): (64, 21)\n",
            "example_enc_output shape (batch, s, units): (64, 21, 1024)\n",
            "example_enc_state shape (batch, units): (64, 1024)\n"
          ]
        }
      ]
    },
    {
      "cell_type": "code",
      "source": [
        "class BahdanauAttention(tf.keras.layers.Layer):\n",
        "  def __init__(self, units: int) -> None:\n",
        "    super().__init__()\n",
        "    self.units = units\n",
        "    self.w1 = tf.keras.layers.Dense(units, use_bias=False)\n",
        "    self.w2 = tf.keras.layers.Dense(units, use_bias=False)\n",
        "\n",
        "    self.attention = tf.keras.layers.AdditiveAttention()\n",
        "\n",
        "  def call(self, query: tf.Tensor, value: tf.Tensor, mask: tf.Tensor) -> Tuple[tf.Tensor, tf.Tensor]:\n",
        "    shape_checker = ShapeChecker()\n",
        "    shape_checker(query, (\"batch\", \"t\", \"query_units\"))\n",
        "    shape_checker(value, (\"batch\", \"s\", \"value_units\"))\n",
        "    shape_checker(mask, (\"batch\", \"s\"))\n",
        "\n",
        "    w1_query = self.w1(query)\n",
        "    shape_checker(w1_query, (\"batch\", \"t\", \"attn_units\"))\n",
        "\n",
        "    w2_key = self.w2(value)\n",
        "    shape_checker(w2_key, (\"batch\", \"s\", \"attn_units\"))\n",
        "\n",
        "    query_mask = tf.ones(tf.shape(query)[:-1], dtype=bool)\n",
        "    value_mask = mask\n",
        "\n",
        "    # print(\"w1_query:\", w1_query.shape)\n",
        "    # print(\"value:\", value.shape)\n",
        "    # print(\"w2_key:\", w2_key.shape)\n",
        "    # print(\"query_mask:\", query_mask.shape)\n",
        "    # print(\"value_mask:\", value_mask.shape)\n",
        "    context_vector, attention_weights = self.attention(\n",
        "        inputs=[w1_query, value, w2_key],\n",
        "        mask=[query_mask, value_mask],\n",
        "        return_attention_scores=True,\n",
        "    )\n",
        "    # print(\"context_vector:\", context_vector.shape)\n",
        "    # print(\"attention_weights:\", attention_weights.shape)\n",
        "    shape_checker(context_vector, (\"batch\", \"t\", \"value_units\"))\n",
        "    shape_checker(attention_weights, (\"batch\", \"t\", \"s\"))\n",
        "\n",
        "    return context_vector, attention_weights"
      ],
      "metadata": {
        "id": "J7HpN-obEw2G"
      },
      "execution_count": null,
      "outputs": []
    },
    {
      "cell_type": "code",
      "source": [
        "attention = BahdanauAttention(UNITS)\n",
        "\n",
        "example_attention_query = tf.random.normal(shape=[example_input_batch.shape[0], 2, 10])\n",
        "\n",
        "context_vector, attention_weights = attention(query=example_attention_query, value=example_enc_output, mask=example_tokens!=0)\n",
        "\n",
        "print(f\"context_vector shape(batch, query_seq_length, units): {context_vector.shape}\")\n",
        "print(f\"context_vector shape(batch, query_seq_length, value_seq_length): {attention_weights.shape}\")"
      ],
      "metadata": {
        "colab": {
          "base_uri": "https://localhost:8080/"
        },
        "id": "L-Jty14zKm_8",
        "outputId": "b7b54f62-43af-4b5d-a879-5f64808fcd47"
      },
      "execution_count": null,
      "outputs": [
        {
          "output_type": "stream",
          "name": "stdout",
          "text": [
            "context_vector shape(batch, query_seq_length, units): (64, 2, 1024)\n",
            "context_vector shape(batch, query_seq_length, value_seq_length): (64, 2, 21)\n"
          ]
        }
      ]
    },
    {
      "cell_type": "code",
      "source": [
        "fig, ax = plt.subplots(1)\n",
        "ax.plot(np.arange(1, 10), np.arange(1, 10), label=\"qweqwe\")\n",
        "h, l = ax.get_legend_handles_labels()\n",
        "plt.show()"
      ],
      "metadata": {
        "colab": {
          "base_uri": "https://localhost:8080/",
          "height": 265
        },
        "id": "Zp850LANiV6c",
        "outputId": "ccf9543b-73ad-44b7-b001-bb52c21828a7"
      },
      "execution_count": null,
      "outputs": [
        {
          "output_type": "display_data",
          "data": {
            "text/plain": [
              "<Figure size 432x288 with 1 Axes>"
            ],
            "image/png": "[encoded data removed]"
          },
          "metadata": {
            "needs_background": "light"
          }
        }
      ]
    },
    {
      "cell_type": "code",
      "source": [
        "display(h)\n",
        "display(l)"
      ],
      "metadata": {
        "colab": {
          "base_uri": "https://localhost:8080/",
          "height": 52
        },
        "id": "ZirzKDLuiZq6",
        "outputId": "8a774f6f-6b04-4a70-a693-9f5d8b27e7fa"
      },
      "execution_count": null,
      "outputs": [
        {
          "output_type": "display_data",
          "data": {
            "text/plain": [
              "[<matplotlib.lines.Line2D at 0x7f19ae125550>]"
            ]
          },
          "metadata": {}
        },
        {
          "output_type": "display_data",
          "data": {
            "text/plain": [
              "['qweqwe']"
            ]
          },
          "metadata": {}
        }
      ]
    },
    {
      "cell_type": "code",
      "source": [
        "display(attention_weights.shape)\n",
        "\n",
        "plt.subplot(1, 2, 1)\n",
        "plt.pcolormesh(attention_weights[:, 0, :])\n",
        "plt.title('Attention weights')\n",
        "\n",
        "plt.subplot(1, 2, 2)\n",
        "plt.pcolormesh(example_tokens != 0)\n",
        "plt.title('Mask')\n",
        "plt.show()"
      ],
      "metadata": {
        "colab": {
          "base_uri": "https://localhost:8080/",
          "height": 298
        },
        "id": "J5D_CYHkL6Qo",
        "outputId": "a3036300-48ea-474b-9fed-ff6d1be20f9d"
      },
      "execution_count": null,
      "outputs": [
        {
          "output_type": "display_data",
          "data": {
            "text/plain": [
              "TensorShape([64, 2, 21])"
            ]
          },
          "metadata": {}
        },
        {
          "output_type": "display_data",
          "data": {
            "text/plain": [
              "<Figure size 432x288 with 2 Axes>"
            ],
            "image/png": "[encoded data removed]"
          },
          "metadata": {
            "needs_background": "light"
          }
        }
      ]
    },
    {
      "cell_type": "code",
      "source": [
        "attention_slice = attention_weights[0, 0].numpy()\n",
        "attention_slice = attention_slice[attention_slice != 0]"
      ],
      "metadata": {
        "id": "ILbiWQ9fL7n0"
      },
      "execution_count": null,
      "outputs": []
    },
    {
      "cell_type": "code",
      "source": [
        "plt.suptitle('Attention weights for one sequence')\n",
        "\n",
        "plt.figure(figsize=(12, 6))\n",
        "a1 = plt.subplot(1, 2, 1)\n",
        "plt.bar(range(len(attention_slice)), attention_slice)\n",
        "# freeze the xlim\n",
        "plt.xlim(plt.xlim())\n",
        "plt.xlabel('Attention weights')\n",
        "\n",
        "a2 = plt.subplot(1, 2, 2)\n",
        "plt.bar(range(len(attention_slice)), attention_slice)\n",
        "plt.xlabel('Attention weights, zoomed')\n",
        "\n",
        "# zoom in\n",
        "top = max(a1.get_ylim())\n",
        "zoom = 0.85*top\n",
        "a2.set_ylim([0.90*top, top])\n",
        "a1.plot(a1.get_xlim(), [zoom, zoom], color='k')\n",
        "\n",
        "plt.show()"
      ],
      "metadata": {
        "colab": {
          "base_uri": "https://localhost:8080/",
          "height": 405
        },
        "id": "DtN47tZeMCw3",
        "outputId": "ca6c7cad-1939-4764-d663-5cae0772fc8c"
      },
      "execution_count": null,
      "outputs": [
        {
          "output_type": "display_data",
          "data": {
            "text/plain": [
              "<Figure size 432x288 with 0 Axes>"
            ]
          },
          "metadata": {}
        },
        {
          "output_type": "display_data",
          "data": {
            "text/plain": [
              "<Figure size 864x432 with 2 Axes>"
            ],
            "image/png": "[encoded data removed]"
          },
          "metadata": {
            "needs_background": "light"
          }
        }
      ]
    },
    {
      "cell_type": "code",
      "source": [
        "class DecoderInput(typing.NamedTuple):\n",
        "  new_tokens: Any\n",
        "  enc_output: Any\n",
        "  mask: Any\n",
        "\n",
        "class DecoderOutput(typing.NamedTuple):\n",
        "  logits: Any\n",
        "  attention_weights: Any"
      ],
      "metadata": {
        "id": "owU6tym3E1b3"
      },
      "execution_count": null,
      "outputs": []
    },
    {
      "cell_type": "code",
      "source": [
        "class Decoder(tf.keras.layers.Layer):\n",
        "  def __init__(self, output_vocab_size: int, embedding_dim: int, dec_units: int):\n",
        "    super().__init__()\n",
        "    self.output_vocab_size = output_vocab_size\n",
        "    self.embedding_dim = embedding_dim\n",
        "    self.dec_units = dec_units\n",
        "\n",
        "    # For Step 1. The embedding layer converts token IDs to vectors\n",
        "    self.embedding = tf.keras.layers.Embedding(\n",
        "        input_dim=output_vocab_size,\n",
        "        output_dim=embedding_dim,\n",
        "    )\n",
        "\n",
        "    # For Step 2. The RNN keeps track of what's been generated so far.\n",
        "    self.gru = tf.keras.layers.GRU(\n",
        "        units=dec_units,\n",
        "        return_state=True,\n",
        "        return_sequences=True,\n",
        "        recurrent_initializer=\"glorot_uniform\",\n",
        "    )\n",
        "\n",
        "    # For step 3. The RNN output will be the query for the attention layer.\n",
        "    self.attention = BahdanauAttention(self.dec_units)\n",
        "\n",
        "    # For step 4. Eqn. (3): converting `ct` to `at`\n",
        "    self.wc = tf.keras.layers.Dense(dec_units)\n",
        "\n",
        "    # For step 5. This fully connected layer produces the logits for each\n",
        "    self.fc = tf.keras.layers.Dense(dec_units)\n",
        "  \n",
        "  def call(\n",
        "      self, inputs: DecoderInput, state=None\n",
        "  ) -> Tuple[DecoderOutput, tf.Tensor]:\n",
        "    shape_checker = ShapeChecker()\n",
        "    shape_checker(inputs.new_tokens, (\"batch\", \"t\"))\n",
        "    shape_checker(inputs.enc_output, (\"batch\", \"s\", \"enc_units\"))\n",
        "    shape_checker(inputs.mask, (\"batch\", \"s\"))\n",
        "\n",
        "    if state is not None:\n",
        "      shape_checker(state, (\"batch\", \"dec_units\"))\n",
        "\n",
        "    vectors = self.embedding(inputs.new_tokens)\n",
        "    shape_checker(vectors, (\"batch\", \"t\", \"embedding_dim\"))\n",
        "\n",
        "    rnn_output, state = self.gru(vectors, initial_state=state)\n",
        "    shape_checker(rnn_output, (\"batch\", \"t\", \"dec_units\"))\n",
        "    shape_checker(state, (\"batch\", \"dec_units\"))\n",
        "\n",
        "    context_vector, attention_weights = self.attention(\n",
        "        query=rnn_output,\n",
        "        value=inputs.enc_output,\n",
        "        mask=inputs.mask,\n",
        "    )\n",
        "    shape_checker(context_vector, (\"batch\", \"t\", \"dec_units\"))\n",
        "    shape_checker(attention_weights, (\"batch\", \"t\", \"s\"))\n",
        "\n",
        "    attention_vector = self.wc(tf.concat([context_vector, rnn_output], axis=-1))\n",
        "    shape_checker(attention_vector, (\"batch\", \"t\", \"dec_units\"))\n",
        "\n",
        "    logits = self.fc(attention_vector)\n",
        "    shape_checker(logits, (\"batch\", \"t\", \"dec_units\"))\n",
        "\n",
        "    return (\n",
        "        DecoderOutput(logits=logits, attention_weights=attention_weights),\n",
        "        state,\n",
        "    )"
      ],
      "metadata": {
        "id": "nUoGtBWuE2XT"
      },
      "execution_count": null,
      "outputs": []
    },
    {
      "cell_type": "code",
      "source": [
        "decoder = Decoder(tgt_txt_vec.vocabulary_size(), EMBEDDING_DIM, UNITS)"
      ],
      "metadata": {
        "id": "bOY8cvRBfxpQ"
      },
      "execution_count": null,
      "outputs": []
    },
    {
      "cell_type": "code",
      "source": [
        "example_output_tokens = tgt_txt_vec(example_target_batch)\n",
        "\n",
        "start_index = tgt_txt_vec.get_vocabulary().index(\"[START]\")\n",
        "first_token = tf.constant([[start_index]] * example_output_tokens.shape[0])"
      ],
      "metadata": {
        "id": "3HfYesOLgSQB"
      },
      "execution_count": null,
      "outputs": []
    },
    {
      "cell_type": "code",
      "source": [
        "print(example_enc_output.shape)\n",
        "print(first_token.shape)"
      ],
      "metadata": {
        "colab": {
          "base_uri": "https://localhost:8080/"
        },
        "id": "ZmH8hVKBfswy",
        "outputId": "bd56b3d1-7fdd-4e0b-a9fc-ee33d85b1ba1"
      },
      "execution_count": null,
      "outputs": [
        {
          "output_type": "stream",
          "name": "stdout",
          "text": [
            "(64, 21, 1024)\n",
            "(64, 1)\n"
          ]
        }
      ]
    },
    {
      "cell_type": "code",
      "source": [
        "decoder_example_out, decoder_example_state = decoder(\n",
        "    DecoderInput(\n",
        "        new_tokens=first_token,\n",
        "        enc_output=example_enc_output,\n",
        "        mask=example_tokens != 0,\n",
        "    ),\n",
        "    state=example_enc_state,\n",
        ")\n",
        "\n",
        "print(f'logits shape: (batch_size, t, output_vocab_size) {decoder_example_out.logits.shape}')\n",
        "print(f'state shape: (batch_size, dec_units) {decoder_example_state.shape}')"
      ],
      "metadata": {
        "id": "sfs6gBeuhEjn",
        "colab": {
          "base_uri": "https://localhost:8080/"
        },
        "outputId": "723a3ae7-ce53-40be-85b8-2c16826ef5ab"
      },
      "execution_count": null,
      "outputs": [
        {
          "output_type": "stream",
          "name": "stdout",
          "text": [
            "logits shape: (batch_size, t, output_vocab_size) (64, 1, 1024)\n",
            "state shape: (batch_size, dec_units) (64, 1024)\n"
          ]
        }
      ]
    },
    {
      "cell_type": "code",
      "source": [
        "sampled_token = tf.random.categorical(decoder_example_out.logits[:, 0, :], num_samples=1)"
      ],
      "metadata": {
        "id": "U6J0ds7ti34g"
      },
      "execution_count": null,
      "outputs": []
    },
    {
      "cell_type": "code",
      "source": [
        "sampled_token.shape, sampled_token[:10]"
      ],
      "metadata": {
        "colab": {
          "base_uri": "https://localhost:8080/"
        },
        "id": "oYRd6c0UjUJw",
        "outputId": "0d22f108-e775-40e2-cc28-29f5274ccbe8"
      },
      "execution_count": null,
      "outputs": [
        {
          "output_type": "execute_result",
          "data": {
            "text/plain": [
              "(TensorShape([64, 1]), <tf.Tensor: shape=(10, 1), dtype=int64, numpy=\n",
              " array([[ 37],\n",
              "        [ 15],\n",
              "        [348],\n",
              "        [572],\n",
              "        [186],\n",
              "        [661],\n",
              "        [157],\n",
              "        [492],\n",
              "        [204],\n",
              "        [997]])>)"
            ]
          },
          "metadata": {},
          "execution_count": 36
        }
      ]
    },
    {
      "cell_type": "code",
      "source": [
        "vocab = np.array(tgt_txt_vec.get_vocabulary())\n",
        "firts_words = vocab[sampled_token]\n",
        "display(firts_words[:10])"
      ],
      "metadata": {
        "colab": {
          "base_uri": "https://localhost:8080/",
          "height": 191
        },
        "id": "2hLRq9IhjKwQ",
        "outputId": "bd76f48c-4783-4d4c-ac10-861badb7e372"
      },
      "execution_count": null,
      "outputs": [
        {
          "output_type": "display_data",
          "data": {
            "text/plain": [
              "array([['want'],\n",
              "       ['of'],\n",
              "       ['afraid'],\n",
              "       ['cut'],\n",
              "       ['years'],\n",
              "       ['piano'],\n",
              "       ['old'],\n",
              "       ['lived'],\n",
              "       ['find'],\n",
              "       ['public']], dtype='<U16')"
            ]
          },
          "metadata": {}
        }
      ]
    },
    {
      "cell_type": "code",
      "source": [
        "decoder_example_out2, decoder_example_state2 = decoder(\n",
        "    DecoderInput(\n",
        "        new_tokens=sampled_token,\n",
        "        enc_output=example_enc_output,\n",
        "        mask=example_tokens != 0,\n",
        "    ),\n",
        "    state=decoder_example_state,\n",
        ")"
      ],
      "metadata": {
        "id": "0TOQ_CDAb554"
      },
      "execution_count": null,
      "outputs": []
    },
    {
      "cell_type": "code",
      "source": [
        "sampled_token2 = tf.random.categorical(decoder_example_out2.logits[:, 0, :], num_samples=1)\n",
        "second_words = vocab[sampled_token2]\n",
        "display(second_words[:10])"
      ],
      "metadata": {
        "colab": {
          "base_uri": "https://localhost:8080/",
          "height": 191
        },
        "id": "FTf9ySP1joCK",
        "outputId": "5f1ae9d3-6eff-4293-9bd6-25c5e8944554"
      },
      "execution_count": null,
      "outputs": [
        {
          "output_type": "display_data",
          "data": {
            "text/plain": [
              "array([['team'],\n",
              "       ['let'],\n",
              "       ['noise'],\n",
              "       ['lose'],\n",
              "       ['be'],\n",
              "       ['thank'],\n",
              "       ['looked'],\n",
              "       ['once'],\n",
              "       ['coming'],\n",
              "       ['born']], dtype='<U16')"
            ]
          },
          "metadata": {}
        }
      ]
    },
    {
      "cell_type": "code",
      "source": [
        "class MaskedLoss(tf.keras.losses.Loss):\n",
        "  def __init__(self):\n",
        "    super().__init__()\n",
        "    self.loss = tf.keras.losses.SparseCategoricalCrossentropy(\n",
        "        from_logits=True,\n",
        "        reduction=\"none\",\n",
        "    )\n",
        "  \n",
        "  def __call__(self, y_true, y_pred):\n",
        "    shape_checker = ShapeChecker()\n",
        "    shape_checker(y_true, (\"batch\", \"t\"))\n",
        "    shape_checker(y_pred, (\"batch\", \"t\", \"logits\"))\n",
        "\n",
        "    loss_arr = self.loss(y_true, y_pred)\n",
        "    shape_checker(loss_arr, (\"batch\", \"t\"))\n",
        "\n",
        "    mask = tf.cast(y_true != 0, tf.float32)\n",
        "    loss_arr *= mask\n",
        "\n",
        "    return tf.reduce_sum(loss_arr)"
      ],
      "metadata": {
        "id": "w9edkWp5XV8o"
      },
      "execution_count": null,
      "outputs": []
    },
    {
      "cell_type": "code",
      "source": [
        "class TrainTranslator(tf.keras.Model):\n",
        "  def __init__(\n",
        "      self,\n",
        "      input_vocab_size: int,\n",
        "      output_vocab_size: int,\n",
        "      src_txt_vec: tf.keras.layers.TextVectorization,\n",
        "      tgt_txt_vec: tf.keras.layers.TextVectorization,\n",
        "      use_tf_function: bool,\n",
        "  ):\n",
        "    super().__init__()\n",
        "\n",
        "    self.input_vocab_size = input_vocab_size\n",
        "    self.output_vocab_size = output_vocab_size\n",
        "\n",
        "    self.encoder = Encoder(\n",
        "        input_vocab_size=input_vocab_size,\n",
        "        embedding_dim=EMBEDDING_DIM,\n",
        "        enc_units=UNITS,\n",
        "    )\n",
        "    self.Decoder = Decoder(\n",
        "        output_vocab_size=output_vocab_size,\n",
        "        embedding_dim=EMBEDDING_DIM,\n",
        "        dec_units=UNITS,\n",
        "    )\n",
        "\n",
        "    self.src_txt_vec = src_txt_vec\n",
        "    self.tgt_txt_vec = tgt_txt_vec\n",
        "    self.use_tf_function = use_tf_function\n",
        "\n",
        "    self.shape_checker = ShapeChecker()\n",
        "  \n",
        "  def train_step(self, inputs):\n",
        "    self.shape_checker = ShapeChecker()\n",
        "    if self.use_tf_function:\n",
        "      return self._tf_train_step(inputs)\n",
        "    else:\n",
        "      return self._train_step(inputs)"
      ],
      "metadata": {
        "id": "96M9UlYJFkl7"
      },
      "execution_count": null,
      "outputs": []
    }
  ]
}